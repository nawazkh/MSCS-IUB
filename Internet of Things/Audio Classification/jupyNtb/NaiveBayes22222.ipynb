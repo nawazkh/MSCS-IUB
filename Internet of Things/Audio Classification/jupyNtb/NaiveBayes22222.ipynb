{
 "cells": [
  {
   "cell_type": "code",
   "execution_count": 1,
   "metadata": {},
   "outputs": [],
   "source": [
    "import numpy as np\n",
    "import scipy\n",
    "import scipy.signal as signal\n",
    "import thinkdsp\n",
    "import thinkplot\n",
    "import urllib.request\n",
    "import sys\n",
    "import logging\n",
    "import math\n",
    "import os\n",
    "import pydub  \n",
    "import scipy\n",
    "# import urllib.request\n",
    "%matplotlib inline\n",
    "import matplotlib.pyplot as plt\n",
    "from scipy.io import wavfile # get the api\n",
    "from scipy.fftpack import fft\n",
    "from pylab import *\n",
    "\n",
    "from IPython.core.interactiveshell import InteractiveShell\n",
    "InteractiveShell.ast_node_interactivity = \"all\"\n",
    "from IPython.display import Audio"
   ]
  },
  {
   "cell_type": "code",
   "execution_count": 25,
   "metadata": {},
   "outputs": [],
   "source": [
    "def find_prominent_freqeuencies(filename):\n",
    "#     print ('in function filename: ', filename)\n",
    "    fs, data = wavfile.read(filename) # load the data\n",
    "#     print ('monon/stereo : ', data.shape)\n",
    "    if len(data.shape) > 1:# this is a two channel soundtrack, I get the first track\n",
    "        a1 = data.T[0] \n",
    "        a = a1[:1024]\n",
    "    else:\n",
    "        a1 = data\n",
    "        a = a1[:1024]\n",
    "    \n",
    "    c = fft(a) # create a list of complex number\n",
    "#     print ('fftshape: ', c.shape)\n",
    "#     print ('fftlen: ', len(c))\n",
    "    d = len(c)/2  # you only need half of the fft list\n",
    "#     plt.plot(abs(c[:int(d-1)]),'r')\n",
    "#     plt.show()\n",
    "    c_abf_fil = np.absolute(c[:int(d-1)])\n",
    "    c_abs = c_abf_fil[:26]#c[26] represents 812.5 Hz\n",
    "    \n",
    "#     for i in range(7):\n",
    "#         c_abs [i] = 0 \n",
    "    \n",
    "#     print 'absolute c: ', c_abs\n",
    "    mcr = np.sum(c_abs)\n",
    "    mcr = mcr/len(c_abs)\n",
    "#     print ('MEAN: ', mcr )\n",
    "#     print ('MAX : ', np.max(c_abs))\n",
    "    collection={}\n",
    "    for i in range(len(c_abs)):\n",
    "        if c_abs[i] >= (1.27*mcr):\n",
    "            collection[i] = c_abs[i]\n",
    "        else:\n",
    "            collection[i] = 0\n",
    "#     print 'short listed: ',collection\n",
    "#     print ('short listed len: ',len(collection), '  len original: ', len(c_abs))\n",
    "#     print ('Key Value pairs:',collection)\n",
    "#     plt.plot(collection.values(), 'g')\n",
    "#     plt.xlim((0,1000))   \n",
    "#     plt.show()\n",
    "    return collection"
   ]
  },
  {
   "cell_type": "code",
   "execution_count": 26,
   "metadata": {},
   "outputs": [],
   "source": [
    "# for trucks audio sample\n",
    "import glob\n",
    "\n",
    "list_collection = []\n",
    "# dir_path = '/Users/nawazkh/Masters/Courses/CSCI-B649_Internet_Of_Things/FinalProject/truck-audioset/trucks/'\n",
    "dir_path = '/Users/nawazkh/Masters/Courses/CSCI-B649_Internet_Of_Things/FinalProject/truck-audioset/noisy-data-set/truck/'\n",
    "for wavf in glob.glob(dir_path+'*.wav'):\n",
    "#     print 'filename ', wavf\n",
    "    coll = find_prominent_freqeuencies(wavf)\n",
    "    list_collection.append(coll)"
   ]
  },
  {
   "cell_type": "code",
   "execution_count": 27,
   "metadata": {},
   "outputs": [
    {
     "name": "stdout",
     "output_type": "stream",
     "text": [
      "fileCount: 600\n",
      "KEYS:  26\n",
      "key:  0  val:  (0.00608974358974359, 493177.63157894736)\n",
      "key:  1  val:  (0.01891025641025641, 983826.9386483829)\n",
      "key:  2  val:  (0.017435897435897435, 681987.3652403081)\n",
      "key:  3  val:  (0.01653846153846154, 1097679.2593767622)\n",
      "key:  4  val:  (0.017756410256410258, 710990.4309852595)\n",
      "key:  5  val:  (0.01903846153846154, 916521.7003735271)\n",
      "key:  6  val:  (0.016474358974358973, 762553.0291873703)\n",
      "key:  7  val:  (0.010833333333333334, 733004.7744141924)\n",
      "key:  8  val:  (0.012884615384615385, 894188.1969656912)\n",
      "key:  9  val:  (0.013397435897435897, 860530.3203927211)\n",
      "key:  10  val:  (0.010576923076923078, 782225.0223885921)\n",
      "key:  11  val:  (0.0075, 584368.3001830429)\n",
      "key:  12  val:  (0.008782051282051282, 629235.2824972909)\n",
      "key:  13  val:  (0.006025641025641026, 556782.5712836201)\n",
      "key:  14  val:  (0.004487179487179487, 736646.0805008225)\n",
      "key:  15  val:  (0.006217948717948718, 648757.224813361)\n",
      "key:  16  val:  (0.006025641025641026, 584338.539028947)\n",
      "key:  17  val:  (0.00782051282051282, 647309.6908344765)\n",
      "key:  18  val:  (0.004615384615384616, 680339.3816290903)\n",
      "key:  19  val:  (0.006025641025641026, 738540.3489737511)\n",
      "key:  20  val:  (0.005961538461538462, 704415.182755444)\n",
      "key:  21  val:  (0.00391025641025641, 576050.9128776046)\n",
      "key:  22  val:  (0.005961538461538462, 630896.3549458851)\n",
      "key:  23  val:  (0.006923076923076923, 680718.8462771641)\n",
      "key:  24  val:  (0.0055128205128205125, 644097.3553688746)\n",
      "key:  25  val:  (0.0056410256410256415, 608231.9275758376)\n"
     ]
    }
   ],
   "source": [
    "# for trucks audio sample\n",
    "coll2 = {}\n",
    "fileCount = 0\n",
    "for i,colli in enumerate(list_collection):\n",
    "#     print coll\n",
    "#     print i, 'th colletion: '\n",
    "#     print coll.keys()\n",
    "    fileCount = fileCount + 1\n",
    "    for k in colli.keys():\n",
    "        if k >= 0 and colli[k] > 1.0:#if k >= 7 and colli[k] > 1.0:\n",
    "            if k in coll2:\n",
    "                coll2[k] = (coll2[k][0]+1,coll2[k][1]+colli[k])\n",
    "            else:\n",
    "                coll2[k] = (1, colli[k])\n",
    "print ('fileCount:',fileCount)\n",
    "for k in coll2.keys():\n",
    "    coll2[k] = (coll2[k][0]/(fileCount*len(coll2.keys())) , coll2[k][1]/(coll2[k][0]))\n",
    "    \n",
    "print ('KEYS: ', len(coll2.keys()))\n",
    "for key in sorted(coll2):\n",
    "    print ('key: ', key , ' val: ', coll2[key])\n",
    "# for key in sorted(coll2):\n",
    "#      print (coll2[key][0],',')"
   ]
  },
  {
   "cell_type": "code",
   "execution_count": 28,
   "metadata": {},
   "outputs": [],
   "source": [
    "# for no trucks audio sample\n",
    "import glob\n",
    "\n",
    "list_collection_2 = []\n",
    "# dir_path_2 = '/Users/nawazkh/Masters/Courses/CSCI-B649_Internet_Of_Things/FinalProject/truck-audioset/no_trucks/'\n",
    "dir_path_2 = '/Users/nawazkh/Masters/Courses/CSCI-B649_Internet_Of_Things/FinalProject/truck-audioset/noisy-data-set/non_truck/'\n",
    "for wavf in glob.glob(dir_path_2+'*.wav'):\n",
    "#     print 'filename ', wavf\n",
    "    coll_no_trucks = find_prominent_freqeuencies(wavf)\n",
    "    list_collection_2.append(coll_no_trucks)"
   ]
  },
  {
   "cell_type": "code",
   "execution_count": 29,
   "metadata": {},
   "outputs": [
    {
     "name": "stdout",
     "output_type": "stream",
     "text": [
      "KEYS:  26\n",
      "key:  0  val:  (0.0035897435897435897, 448626.76785714284)\n",
      "key:  1  val:  (0.01, 1130536.047938308)\n",
      "key:  2  val:  (0.01358974358974359, 762529.3620528056)\n",
      "key:  3  val:  (0.013525641025641025, 866504.8169505856)\n",
      "key:  4  val:  (0.014038461538461538, 815324.8640673618)\n",
      "key:  5  val:  (0.011282051282051283, 572762.4028286206)\n",
      "key:  6  val:  (0.009807692307692307, 635765.1223234184)\n",
      "key:  7  val:  (0.015128205128205128, 1224687.7907447303)\n",
      "key:  8  val:  (0.013461538461538462, 931807.3287580165)\n",
      "key:  9  val:  (0.013653846153846154, 646051.9607485983)\n",
      "key:  10  val:  (0.011666666666666667, 663268.6730324831)\n",
      "key:  11  val:  (0.010576923076923078, 741036.5625692841)\n",
      "key:  12  val:  (0.012435897435897436, 789979.8375799004)\n",
      "key:  13  val:  (0.006987179487179487, 616111.5924822125)\n",
      "key:  14  val:  (0.008333333333333333, 770530.6468923269)\n",
      "key:  15  val:  (0.006987179487179487, 767904.1626160289)\n",
      "key:  16  val:  (0.010769230769230769, 640890.7781935111)\n",
      "key:  17  val:  (0.0057051282051282055, 622180.6516943588)\n",
      "key:  18  val:  (0.006730769230769231, 820179.8848993763)\n",
      "key:  19  val:  (0.007115384615384615, 563901.2543972651)\n",
      "key:  20  val:  (0.006282051282051282, 675074.6016081311)\n",
      "key:  21  val:  (0.007628205128205128, 634911.4303439729)\n",
      "key:  22  val:  (0.006602564102564102, 735641.0419144927)\n",
      "key:  23  val:  (0.005064102564102564, 480839.2209932445)\n",
      "key:  24  val:  (0.004423076923076923, 394396.34979833796)\n",
      "key:  25  val:  (0.004230769230769231, 302930.40422793746)\n"
     ]
    }
   ],
   "source": [
    "# for no trucks audio sample\n",
    "coll2_no_trucks = {}\n",
    "no_fileCount = 0\n",
    "for i,collo in enumerate(list_collection_2):\n",
    "#     print coll\n",
    "#     print i, 'th colletion: '\n",
    "#     print coll.keys()\n",
    "    no_fileCount = no_fileCount + 1\n",
    "    for k in collo.keys():\n",
    "        if k >= 0 and collo[k] > 1.0:#if k >= 7 and collo[k] > 1.0:\n",
    "            if k in coll2_no_trucks:\n",
    "                coll2_no_trucks[k] = (coll2_no_trucks[k][0]+1,coll2_no_trucks[k][1]+collo[k])\n",
    "            else:\n",
    "                coll2_no_trucks[k] = (1, collo[k])\n",
    "                \n",
    "for k in coll2_no_trucks.keys():\n",
    "    coll2_no_trucks[k] = (coll2_no_trucks[k][0]/(no_fileCount*len(coll2_no_trucks.keys())) , coll2_no_trucks[k][1]/(coll2_no_trucks[k][0]))        \n",
    "    \n",
    "print ('KEYS: ', len(coll2_no_trucks.keys()))\n",
    "for key in sorted(coll2_no_trucks):\n",
    "    print ('key: ', key , ' val: ', coll2_no_trucks[key])\n",
    "# for key in sorted(coll2_no_trucks):\n",
    "#      print (coll2_no_trucks[key][0],',')"
   ]
  },
  {
   "cell_type": "code",
   "execution_count": 34,
   "metadata": {},
   "outputs": [],
   "source": [
    "def print_Probability(myFile):\n",
    "    truck_d = find_prominent_freqeuencies(myFile)\n",
    "#     print (truck_d)\n",
    "    td = {}\n",
    "    for k in truck_d.keys():\n",
    "            if  k >= 0 and truck_d[k] > 1.0:#if  k >= 7 and truck_d[k] > 1.0:\n",
    "                if k in td:\n",
    "                    td[k] = (td[k][0]+1,td[k][1]+truck_d[k])\n",
    "                else:\n",
    "                    td[k] = (1, truck_d[k])\n",
    "\n",
    "    for k in td.keys():\n",
    "        td[k] = (td[k][0]/len(coll2.keys()), td[k][1])\n",
    "        \n",
    "#     for key in sorted(td.keys()):\n",
    "#         print ('key: ', key , ' val: ', td[key])\n",
    "    Output_prob = 1.0\n",
    "    Output_prob_truck = 1.0\n",
    "    Output_prob_no_truck = 1.0\n",
    "\n",
    "    for k in coll2.keys():#td.keys():\n",
    "        if(k in td.keys()):\n",
    "            #if(k >= 0 and td[k][1] > 1.0):#if(k >= 7 and td[k][1] > 1.0):\n",
    "                #if(td[k][1] > (0.7*coll2[k][1])):\n",
    "            Output_prob = coll2[k][0]*Output_prob#*(td[k][1]/coll2[k][1])\n",
    "#                 else:\n",
    "#                     Output_prob = 0.00001*Output_prob#*(td[k][1]/coll2[k][1])#*td[k][0]\n",
    "        else:\n",
    "            Output_prob = 0.00001*Output_prob#*(1/coll2_no_trucks[k][1])\n",
    "    Output_prob_truck = 0.5*Output_prob\n",
    "    \n",
    "    Output_prob = 1.0\n",
    "    for k in coll2_no_trucks.keys():#td.keys():\n",
    "        if(k in td.keys()):\n",
    "            #if(k >= 0 and td[k][1] > 1.0):#if(k >= 7 and td[k][1] > 1.0):\n",
    "                #if(td[k][1] > (0.7*coll2_no_trucks[k][1])):\n",
    "            Output_prob = coll2_no_trucks[k][0]*Output_prob#*(td[k][1]/coll2_no_trucks[k][1])\n",
    "#                 else:\n",
    "#                     Output_prob = 0.00001*Output_prob#*(td[k][1]/coll2_no_trucks[k][1])#*td[k][0]\n",
    "        else:\n",
    "            Output_prob = 0.00001*Output_prob#*(1/coll2_no_trucks[k][1])\n",
    "    Output_prob_no_truck = 0.5*Output_prob\n",
    "    \n",
    "#     print ('Truck Prob: ',Output_prob_truck)\n",
    "#     print ('Not Truck Prob: ',Output_prob_no_truck)\n",
    "    if Output_prob_truck >= Output_prob_no_truck:\n",
    "#         print ('***Truck***')#,Output_prob_truck)\n",
    "        return 1\n",
    "    else:\n",
    "#         print ('Not a Truck')# ',Output_prob_no_truck)\n",
    "        return 0\n",
    "        "
   ]
  },
  {
   "cell_type": "code",
   "execution_count": 35,
   "metadata": {},
   "outputs": [
    {
     "data": {
      "text/plain": [
       "1"
      ]
     },
     "execution_count": 35,
     "metadata": {},
     "output_type": "execute_result"
    },
    {
     "name": "stdout",
     "output_type": "stream",
     "text": [
      "----------------------------------\n"
     ]
    },
    {
     "data": {
      "text/plain": [
       "0"
      ]
     },
     "execution_count": 35,
     "metadata": {},
     "output_type": "execute_result"
    }
   ],
   "source": [
    "new_truck_audio = '/Users/nawazkh/Masters/Courses/CSCI-B649_Internet_Of_Things/FinalProject/truck-audioset/noisy-data-set/truck/Truck-15-05-.wav'\n",
    "new_nontruck_audio = '/Users/nawazkh/Masters/Courses/CSCI-B649_Internet_Of_Things/FinalProject/truck-audioset/noisy-data-set/non_truck/Non-Truck-6-02-.wav'\n",
    "\n",
    "# for myFile in glob.glob(new_truck_audio+\"*.wav\"):\n",
    "print_Probability(new_truck_audio)\n",
    "print ('----------------------------------')\n",
    "print_Probability(new_nontruck_audio)"
   ]
  },
  {
   "cell_type": "code",
   "execution_count": 36,
   "metadata": {},
   "outputs": [
    {
     "name": "stdout",
     "output_type": "stream",
     "text": [
      "Percentage:  0.78\n"
     ]
    }
   ],
   "source": [
    "truck_truck_counter = 0.0\n",
    "dir_path_3 = '/Users/nawazkh/Masters/Courses/CSCI-B649_Internet_Of_Things/FinalProject/truck-audioset/noisy-data-set/truck/'\n",
    "for wavf in glob.glob(dir_path_3+'*.wav'):\n",
    "#     print 'filename ', wavf\n",
    "    if( print_Probability(wavf) == 1):\n",
    "        truck_truck_counter = truck_truck_counter + 1\n",
    "print ('Percentage: ',truck_truck_counter/fileCount)\n",
    "#     print ('----------------------------------')"
   ]
  },
  {
   "cell_type": "code",
   "execution_count": 37,
   "metadata": {
    "scrolled": true
   },
   "outputs": [
    {
     "name": "stdout",
     "output_type": "stream",
     "text": [
      "Percentage:  0.51\n"
     ]
    }
   ],
   "source": [
    "truck_truck_counter = 0.0\n",
    "dir_path_3 = '/Users/nawazkh/Masters/Courses/CSCI-B649_Internet_Of_Things/FinalProject/truck-audioset/noisy-data-set/non_truck/'\n",
    "for wavf in glob.glob(dir_path_3+'*.wav'):\n",
    "#     print 'filename ', wavf\n",
    "    if( print_Probability(wavf) == 0):\n",
    "        truck_truck_counter = truck_truck_counter + 1\n",
    "print ('Percentage: ',truck_truck_counter/fileCount)\n",
    "#     print ('----------------------------------')"
   ]
  },
  {
   "cell_type": "code",
   "execution_count": null,
   "metadata": {},
   "outputs": [],
   "source": []
  }
 ],
 "metadata": {
  "kernelspec": {
   "display_name": "Python 2",
   "language": "python",
   "name": "python2"
  },
  "language_info": {
   "codemirror_mode": {
    "name": "ipython",
    "version": 3
   },
   "file_extension": ".py",
   "mimetype": "text/x-python",
   "name": "python",
   "nbconvert_exporter": "python",
   "pygments_lexer": "ipython3",
   "version": "3.6.5"
  }
 },
 "nbformat": 4,
 "nbformat_minor": 2
}
