{
 "cells": [
  {
   "cell_type": "code",
   "execution_count": 1,
   "metadata": {},
   "outputs": [],
   "source": [
    "import numpy as np\n",
    "import scipy\n",
    "import scipy.signal as signal\n",
    "import thinkdsp\n",
    "import thinkplot\n",
    "import urllib.request\n",
    "import sys\n",
    "import logging\n",
    "import math\n",
    "import os\n",
    "import pydub  \n",
    "import scipy\n",
    "# import urllib.request\n",
    "%matplotlib inline\n",
    "import matplotlib.pyplot as plt\n",
    "from scipy.io import wavfile # get the api\n",
    "from scipy.fftpack import fft\n",
    "from pylab import *\n",
    "\n",
    "from IPython.core.interactiveshell import InteractiveShell\n",
    "InteractiveShell.ast_node_interactivity = \"all\"\n",
    "from IPython.display import Audio"
   ]
  },
  {
   "cell_type": "code",
   "execution_count": 12,
   "metadata": {},
   "outputs": [],
   "source": [
    "def find_prominent_freqeuencies(filename):\n",
    "#     print ('in function filename: ', filename)\n",
    "    fs, data = wavfile.read(filename) # load the data\n",
    "#     print ('monon/stereo : ', data.shape)\n",
    "    if len(data.shape) > 1:# this is a two channel soundtrack, I get the first track\n",
    "        a1 = data.T[0] \n",
    "        a = a1[:1024]\n",
    "    else:\n",
    "        a1 = data\n",
    "        a = a1[:1024]\n",
    "    \n",
    "    c = fft(a) # create a list of complex number\n",
    "#     print ('fftshape: ', c.shape)\n",
    "#     print ('fftlen: ', len(c))\n",
    "    d = len(c)/2  # you only need half of the fft list\n",
    "#     plt.plot(abs(c[:int(d-1)]),'r')\n",
    "#     plt.show()\n",
    "    c_abf_fil = np.absolute(c[:int(d-1)])\n",
    "    c_abs = c_abf_fil[:30]#c[46] represents 990.5 Hz\n",
    "    \n",
    "#     for i in range(7):\n",
    "#         c_abs [i] = 0 \n",
    "    \n",
    "#     print 'absolute c: ', c_abs\n",
    "    mcr = np.sum(c_abs)\n",
    "    mcr = mcr/len(c_abs)\n",
    "#     print ('MEAN: ', mcr )\n",
    "#     print ('MAX : ', np.max(c_abs))\n",
    "    collection={}\n",
    "    for i in range(len(c_abs)):\n",
    "        if c_abs[i] >= (1.37*mcr):#1.27*mcr gave a good results\n",
    "            collection[i] = c_abs[i]\n",
    "        else:\n",
    "            collection[i] = 0.0\n",
    "#     print 'short listed: ',collection\n",
    "#     print ('short listed len: ',len(collection), '  len original: ', len(c_abs))\n",
    "#     print ('Key Value pairs:',collection)\n",
    "#     plt.plot(collection.values(), 'g')\n",
    "#     plt.xlim((0,1000))   \n",
    "#     plt.show()\n",
    "    return collection"
   ]
  },
  {
   "cell_type": "code",
   "execution_count": 13,
   "metadata": {},
   "outputs": [],
   "source": [
    "# for trucks audio sample\n",
    "import glob\n",
    "\n",
    "list_collection = []\n",
    "# dir_path = '/Users/nawazkh/Masters/Courses/CSCI-B649_Internet_Of_Things/FinalProject/truck-audioset/trucks/'\n",
    "# dir_path = '/Users/nawazkh/Masters/Courses/CSCI-B649_Internet_Of_Things/FinalProject/truck-audioset/noisy-data-set/truck/'\n",
    "dir_path = '/Users/nawazkh/Masters/Courses/CSCI-B649_Internet_Of_Things/FinalProject/truck-audioset/baby/'\n",
    "for wavf in glob.glob(dir_path+'*.wav'):\n",
    "#     print 'filename ', wavf\n",
    "    coll = find_prominent_freqeuencies(wavf)\n",
    "    list_collection.append(coll)"
   ]
  },
  {
   "cell_type": "code",
   "execution_count": 14,
   "metadata": {},
   "outputs": [
    {
     "name": "stdout",
     "output_type": "stream",
     "text": [
      "fileCount: 14\n",
      "KEYS:  29\n",
      "key:  0  val:  (0.009852216748768473, 876705.5)\n",
      "key:  1  val:  (0.0049261083743842365, 45689.58812520234)\n",
      "key:  2  val:  (0.0024630541871921183, 18253.024359853032)\n",
      "key:  4  val:  (0.0024630541871921183, 20616.04164266113)\n",
      "key:  5  val:  (0.0024630541871921183, 21988.042386168185)\n",
      "key:  6  val:  (0.007389162561576354, 64709.24017219537)\n",
      "key:  7  val:  (0.0049261083743842365, 66683.83822500805)\n",
      "key:  8  val:  (0.0024630541871921183, 717284.9765761413)\n",
      "key:  9  val:  (0.0024630541871921183, 37017.119831045704)\n",
      "key:  10  val:  (0.0049261083743842365, 48068.91744144124)\n",
      "key:  11  val:  (0.009852216748768473, 264624.8466806085)\n",
      "key:  12  val:  (0.009852216748768473, 86005.67900497127)\n",
      "key:  13  val:  (0.0049261083743842365, 998004.4667726954)\n",
      "key:  14  val:  (0.0024630541871921183, 17456.103700094125)\n",
      "key:  15  val:  (0.0049261083743842365, 228793.8755474807)\n",
      "key:  16  val:  (0.0049261083743842365, 941805.3847537555)\n",
      "key:  17  val:  (0.0024630541871921183, 387567.53693253733)\n",
      "key:  18  val:  (0.0024630541871921183, 114148.83431903298)\n",
      "key:  19  val:  (0.0049261083743842365, 170016.45131317974)\n",
      "key:  20  val:  (0.007389162561576354, 84560.0483529998)\n",
      "key:  21  val:  (0.0024630541871921183, 284993.3131820923)\n",
      "key:  22  val:  (0.0049261083743842365, 546498.5823742589)\n",
      "key:  23  val:  (0.007389162561576354, 378135.8195214015)\n",
      "key:  24  val:  (0.009852216748768473, 347431.02876722463)\n",
      "key:  25  val:  (0.009852216748768473, 462243.22235524445)\n",
      "key:  26  val:  (0.0024630541871921183, 1503679.0925234666)\n",
      "key:  27  val:  (0.0049261083743842365, 367653.02394830063)\n",
      "key:  28  val:  (0.007389162561576354, 320292.19601040334)\n",
      "key:  29  val:  (0.007389162561576354, 74558.48411690725)\n"
     ]
    }
   ],
   "source": [
    "# for trucks audio sample\n",
    "coll2 = {}\n",
    "fileCount = 0\n",
    "for i,colli in enumerate(list_collection):\n",
    "#     print coll\n",
    "#     print i, 'th colletion: '\n",
    "#     print coll.keys()\n",
    "    fileCount = fileCount + 1\n",
    "    for k in colli.keys():\n",
    "        if k >= 0 and colli[k] > 1.0:#if k >= 7 and colli[k] > 1.0:\n",
    "            if k in coll2:\n",
    "                coll2[k] = (coll2[k][0]+1,coll2[k][1]+colli[k])\n",
    "            else:\n",
    "                coll2[k] = (1, colli[k])\n",
    "print ('fileCount:',fileCount)\n",
    "for k in coll2.keys():\n",
    "    coll2[k] = (coll2[k][0]/(fileCount*len(coll2.keys())) , coll2[k][1]/(coll2[k][0]))\n",
    "    \n",
    "print ('KEYS: ', len(coll2.keys()))\n",
    "for key in sorted(coll2):\n",
    "    print ('key: ', key , ' val: ', coll2[key])\n",
    "# for key in sorted(coll2):\n",
    "#      print (coll2[key][0],',')"
   ]
  },
  {
   "cell_type": "code",
   "execution_count": 15,
   "metadata": {},
   "outputs": [],
   "source": [
    "# for no trucks audio sample\n",
    "import glob\n",
    "\n",
    "list_collection_2 = []\n",
    "# dir_path_2 = '/Users/nawazkh/Masters/Courses/CSCI-B649_Internet_Of_Things/FinalProject/truck-audioset/no_trucks/'\n",
    "# dir_path_2 = '/Users/nawazkh/Masters/Courses/CSCI-B649_Internet_Of_Things/FinalProject/truck-audioset/noisy-data-set/non_truck/'\n",
    "dir_path_2 = '/Users/nawazkh/Masters/Courses/CSCI-B649_Internet_Of_Things/FinalProject/truck-audioset/no_baby/'\n",
    "for wavf in glob.glob(dir_path_2+'*.wav'):\n",
    "#     print 'filename ', wavf\n",
    "    coll_no_trucks = find_prominent_freqeuencies(wavf)\n",
    "    list_collection_2.append(coll_no_trucks)"
   ]
  },
  {
   "cell_type": "code",
   "execution_count": 16,
   "metadata": {},
   "outputs": [
    {
     "name": "stdout",
     "output_type": "stream",
     "text": [
      "1 0.0\n",
      "1 0.0\n",
      "1 0.0\n",
      "1 0.0\n",
      "1 0.0\n",
      "1 0.0\n",
      "1 0.0\n",
      "1 0.0\n",
      "1 0.0\n",
      "1 0.0\n",
      "fileCount: 14\n",
      "KEYS:  23\n",
      "key:  0  val:  (0.008695652173913044, 540698.0)\n",
      "key:  2  val:  (0.013043478260869565, 1106594.4941004745)\n",
      "key:  3  val:  (0.017391304347826087, 1339161.4668931826)\n",
      "key:  4  val:  (0.013043478260869565, 381242.8745048941)\n",
      "key:  5  val:  (0.017391304347826087, 276897.8181444648)\n",
      "key:  6  val:  (0.013043478260869565, 120945.81364262401)\n",
      "key:  7  val:  (0.008695652173913044, 1122287.0501382907)\n",
      "key:  8  val:  (0.013043478260869565, 467862.2460044946)\n",
      "key:  9  val:  (0.017391304347826087, 556043.6720963548)\n",
      "key:  10  val:  (0.008695652173913044, 635666.7015804035)\n",
      "key:  11  val:  (0.008695652173913044, 482704.18553808745)\n",
      "key:  12  val:  (0.013043478260869565, 296843.75475897704)\n",
      "key:  13  val:  (0.008695652173913044, 297850.16426299023)\n",
      "key:  14  val:  (0.008695652173913044, 183092.33238816907)\n",
      "key:  16  val:  (0.017391304347826087, 478007.2841983435)\n",
      "key:  17  val:  (0.013043478260869565, 442997.6584775252)\n",
      "key:  19  val:  (0.004347826086956522, 614315.7182785159)\n",
      "key:  20  val:  (0.013043478260869565, 677499.5243203723)\n",
      "key:  21  val:  (0.004347826086956522, 1377108.3820130106)\n",
      "key:  23  val:  (0.004347826086956522, 15814.54466015136)\n",
      "key:  24  val:  (0.004347826086956522, 17788.113092346633)\n",
      "key:  25  val:  (0.004347826086956522, 13781.002031822933)\n",
      "key:  27  val:  (0.004347826086956522, 11122.781470334092)\n"
     ]
    }
   ],
   "source": [
    "# for no trucks audio sample\n",
    "coll2_no_trucks = {}\n",
    "no_fileCount = 0\n",
    "for i,collo in enumerate(list_collection_2):\n",
    "#     print coll\n",
    "#     print i, 'th colletion: '\n",
    "#     print coll.keys()\n",
    "    no_fileCount = no_fileCount + 1\n",
    "    for k in collo.keys():\n",
    "        if(k == 1):\n",
    "            print (k,collo[k])\n",
    "        if k >= 0 and collo[k] > 1.0:#if k >= 7 and collo[k] > 1.0:\n",
    "            if k in coll2_no_trucks:\n",
    "                if(k == 1):\n",
    "                    print (k,collo[k])\n",
    "                coll2_no_trucks[k] = (coll2_no_trucks[k][0]+1,coll2_no_trucks[k][1]+collo[k])\n",
    "            else:\n",
    "#                 print (k,'  ',collo[k] )\n",
    "                coll2_no_trucks[k] = (1, collo[k]+1)\n",
    "print ('fileCount:',fileCount)    \n",
    "for k in coll2_no_trucks.keys():\n",
    "    coll2_no_trucks[k] = (coll2_no_trucks[k][0]/(no_fileCount*len(coll2_no_trucks.keys())) , coll2_no_trucks[k][1]/(coll2_no_trucks[k][0]))        \n",
    "    \n",
    "print ('KEYS: ', len(coll2_no_trucks.keys()))\n",
    "for key in sorted(coll2_no_trucks):\n",
    "    print ('key: ', key , ' val: ', coll2_no_trucks[key])\n",
    "# for key in sorted(coll2_no_trucks):\n",
    "#      print (coll2_no_trucks[key][0],',')"
   ]
  },
  {
   "cell_type": "code",
   "execution_count": 69,
   "metadata": {},
   "outputs": [],
   "source": [
    "def print_Probability(myFile):\n",
    "    truck_d = find_prominent_freqeuencies(myFile)\n",
    "#     print (truck_d)\n",
    "    td = {}\n",
    "    for k in truck_d.keys():\n",
    "            if  k >= 0 and truck_d[k] > 1.0:#if  k >= 7 and truck_d[k] > 1.0:\n",
    "                if k in td:\n",
    "                    td[k] = (td[k][0]+1,td[k][1]+truck_d[k])\n",
    "                else:\n",
    "                    td[k] = (1, truck_d[k])\n",
    "\n",
    "    for k in td.keys():\n",
    "        td[k] = (td[k][0]/len(coll2.keys()), td[k][1])\n",
    "        \n",
    "#     for key in sorted(td.keys()):\n",
    "#         print ('key: ', key , ' val: ', td[key])\n",
    "    Output_prob = 1.0\n",
    "    Output_prob_truck = 1.0\n",
    "    Output_prob_no_truck = 1.0\n",
    "\n",
    "    for k in coll2.keys():#td.keys():\n",
    "        if(k in td.keys()):\n",
    "            #if(k >= 0 and td[k][1] > 1.0):#if(k >= 7 and td[k][1] > 1.0):\n",
    "                #if(td[k][1] > (0.7*coll2[k][1])):\n",
    "            Output_prob = coll2[k][0]*Output_prob#*(td[k][1]/coll2[k][1])\n",
    "#                 else:\n",
    "#                     Output_prob = 0.00001*Output_prob#*(td[k][1]/coll2[k][1])#*td[k][0]\n",
    "        else:\n",
    "            Output_prob = 0.00001*Output_prob#*(1/coll2_no_trucks[k][1])\n",
    "    Output_prob_truck = 0.5*Output_prob\n",
    "    \n",
    "    Output_prob = 1.0\n",
    "    for k in coll2_no_trucks.keys():#td.keys():\n",
    "        if(k in td.keys()):\n",
    "            #if(k >= 0 and td[k][1] > 1.0):#if(k >= 7 and td[k][1] > 1.0):\n",
    "                #if(td[k][1] > (0.7*coll2_no_trucks[k][1])):\n",
    "            Output_prob = coll2_no_trucks[k][0]*Output_prob#*(td[k][1]/coll2_no_trucks[k][1])\n",
    "#                 else:\n",
    "#                     Output_prob = 0.00001*Output_prob#*(td[k][1]/coll2_no_trucks[k][1])#*td[k][0]\n",
    "        else:\n",
    "            Output_prob = 0.00001*Output_prob#*(1/coll2_no_trucks[k][1])\n",
    "    Output_prob_no_truck = 0.5*Output_prob\n",
    "    \n",
    "    print ('Truck Prob: ',Output_prob_truck)\n",
    "    print ('Not Truck Prob: ',Output_prob_no_truck)\n",
    "    if Output_prob_truck >= Output_prob_no_truck:\n",
    "#         print ('***Truck***')#,Output_prob_truck)\n",
    "        return 1\n",
    "    else:\n",
    "#         print ('Not a Truck')# ',Output_prob_no_truck)\n",
    "        return 0\n",
    "        "
   ]
  },
  {
   "cell_type": "code",
   "execution_count": 70,
   "metadata": {},
   "outputs": [
    {
     "name": "stdout",
     "output_type": "stream",
     "text": [
      "Truck Prob:  7.360814299115048e-136\n",
      "Not Truck Prob:  5.593238272105768e-101\n"
     ]
    },
    {
     "data": {
      "text/plain": [
       "0"
      ]
     },
     "execution_count": 70,
     "metadata": {},
     "output_type": "execute_result"
    },
    {
     "name": "stdout",
     "output_type": "stream",
     "text": [
      "----------------------------------\n",
      "Truck Prob:  1.319863462877934e-127\n",
      "Not Truck Prob:  1.4097638997115983e-95\n"
     ]
    },
    {
     "data": {
      "text/plain": [
       "0"
      ]
     },
     "execution_count": 70,
     "metadata": {},
     "output_type": "execute_result"
    }
   ],
   "source": [
    "new_truck_audio = '/Users/nawazkh/Masters/Courses/CSCI-B649_Internet_Of_Things/FinalProject/truck-audioset/noisy-data-set/truck/Truck-15-05-.wav'\n",
    "new_nontruck_audio = '/Users/nawazkh/Masters/Courses/CSCI-B649_Internet_Of_Things/FinalProject/truck-audioset/noisy-data-set/non_truck/Non-Truck-6-02-.wav'\n",
    "\n",
    "# for myFile in glob.glob(new_truck_audio+\"*.wav\"):\n",
    "print_Probability(new_truck_audio)\n",
    "print ('----------------------------------')\n",
    "print_Probability(new_nontruck_audio)"
   ]
  },
  {
   "cell_type": "code",
   "execution_count": 67,
   "metadata": {},
   "outputs": [
    {
     "name": "stdout",
     "output_type": "stream",
     "text": [
      "Percentage:  0.0\n"
     ]
    }
   ],
   "source": [
    "truck_truck_counter = 0.0\n",
    "dir_path_3 = '/Users/nawazkh/Masters/Courses/CSCI-B649_Internet_Of_Things/FinalProject/truck-audioset/noisy-data-set/truck/'\n",
    "for wavf in glob.glob(dir_path_3+'*.wav'):\n",
    "#     print 'filename ', wavf\n",
    "    if( print_Probability(wavf) == 1):\n",
    "        truck_truck_counter = truck_truck_counter + 1\n",
    "print ('Percentage: ',truck_truck_counter/fileCount)\n",
    "#     print ('----------------------------------')"
   ]
  },
  {
   "cell_type": "code",
   "execution_count": 68,
   "metadata": {},
   "outputs": [
    {
     "name": "stdout",
     "output_type": "stream",
     "text": [
      "Percentage:  42.857142857142854\n"
     ]
    }
   ],
   "source": [
    "truck_truck_counter = 0.0\n",
    "dir_path_3 = '/Users/nawazkh/Masters/Courses/CSCI-B649_Internet_Of_Things/FinalProject/truck-audioset/noisy-data-set/non_truck/'\n",
    "for wavf in glob.glob(dir_path_3+'*.wav'):\n",
    "#     print 'filename ', wavf\n",
    "    if( print_Probability(wavf) == 0):\n",
    "        truck_truck_counter = truck_truck_counter + 1\n",
    "print ('Percentage: ',truck_truck_counter/fileCount)\n",
    "#     print ('----------------------------------')"
   ]
  },
  {
   "cell_type": "code",
   "execution_count": null,
   "metadata": {},
   "outputs": [],
   "source": []
  }
 ],
 "metadata": {
  "kernelspec": {
   "display_name": "Python 2",
   "language": "python",
   "name": "python2"
  },
  "language_info": {
   "codemirror_mode": {
    "name": "ipython",
    "version": 3
   },
   "file_extension": ".py",
   "mimetype": "text/x-python",
   "name": "python",
   "nbconvert_exporter": "python",
   "pygments_lexer": "ipython3",
   "version": "3.6.5"
  }
 },
 "nbformat": 4,
 "nbformat_minor": 2
}
