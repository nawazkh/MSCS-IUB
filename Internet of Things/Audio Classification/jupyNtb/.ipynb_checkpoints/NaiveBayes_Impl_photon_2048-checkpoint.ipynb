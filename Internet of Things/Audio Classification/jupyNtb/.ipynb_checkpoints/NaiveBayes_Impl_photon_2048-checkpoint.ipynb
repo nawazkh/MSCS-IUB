{
 "cells": [
  {
   "cell_type": "code",
   "execution_count": 1,
   "metadata": {},
   "outputs": [],
   "source": [
    "import numpy as np\n",
    "import scipy\n",
    "import scipy.signal as signal\n",
    "import thinkdsp\n",
    "import thinkplot\n",
    "import urllib.request\n",
    "import sys\n",
    "import logging\n",
    "import math\n",
    "import os\n",
    "import pydub  \n",
    "import scipy\n",
    "# import urllib.request\n",
    "%matplotlib inline\n",
    "import matplotlib.pyplot as plt\n",
    "from scipy.io import wavfile # get the api\n",
    "from scipy.fftpack import fft\n",
    "from pylab import *\n",
    "\n",
    "from IPython.core.interactiveshell import InteractiveShell\n",
    "InteractiveShell.ast_node_interactivity = \"all\"\n",
    "from IPython.display import Audio"
   ]
  },
  {
   "cell_type": "code",
   "execution_count": 176,
   "metadata": {},
   "outputs": [],
   "source": [
    "def find_prominent_freqeuencies(filename):\n",
    "#     print ('in function filename: ', filename)\n",
    "    fs, data = wavfile.read(filename) # load the data\n",
    "#     print ('monon/stereo : ', data.shape)\n",
    "    if len(data.shape) > 1:# this is a two channel soundtrack, I get the first track\n",
    "        a1 = data.T[0] \n",
    "        a = a1[:2048]\n",
    "    else:\n",
    "        a1 = data\n",
    "        a = a1[:2048]\n",
    "    \n",
    "    c = fft(a) # create a list of complex number\n",
    "#     print ('fftshape: ', c.shape)\n",
    "#     print ('fftlen: ', len(c))\n",
    "    d = len(c)/2  # you only need half of the fft list\n",
    "#     plt.plot(abs(c[:int(d-1)]),'r')\n",
    "#     plt.show()\n",
    "    c_abf_fil = np.absolute(c[:int(d-1)])\n",
    "    c_abs = c_abf_fil[:40]#c[46] represents 990.5 Hz\n",
    "    \n",
    "#     for i in range(7):\n",
    "#         c_abs [i] = 0 \n",
    "    \n",
    "#     print 'absolute c: ', c_abs\n",
    "    mcr = np.sum(c_abs)\n",
    "    mcr = mcr/len(c_abs)\n",
    "#     print ('MEAN: ', mcr )\n",
    "#     print ('MAX : ', np.max(c_abs))\n",
    "    collection={}\n",
    "    for i in range(len(c_abs)):\n",
    "        if c_abs[i] >= (1.37*mcr):#1.27*mcr gave a good results\n",
    "            collection[i] = c_abs[i]\n",
    "        else:\n",
    "            collection[i] = 0\n",
    "#     print 'short listed: ',collection\n",
    "#     print ('short listed len: ',len(collection), '  len original: ', len(c_abs))\n",
    "#     print ('Key Value pairs:',collection)\n",
    "#     plt.plot(collection.values(), 'g')\n",
    "#     plt.xlim((0,1000))   \n",
    "#     plt.show()\n",
    "    return collection"
   ]
  },
  {
   "cell_type": "code",
   "execution_count": 177,
   "metadata": {},
   "outputs": [],
   "source": [
    "# for trucks audio sample\n",
    "import glob\n",
    "\n",
    "list_collection = []\n",
    "# dir_path = '/Users/nawazkh/Masters/Courses/CSCI-B649_Internet_Of_Things/FinalProject/truck-audioset/trucks/'\n",
    "dir_path = '/Users/nawazkh/Masters/Courses/CSCI-B649_Internet_Of_Things/FinalProject/truck-audioset/noisy-data-set/truck/'\n",
    "for wavf in glob.glob(dir_path+'*.wav'):\n",
    "#     print 'filename ', wavf\n",
    "    coll = find_prominent_freqeuencies(wavf)\n",
    "    list_collection.append(coll)"
   ]
  },
  {
   "cell_type": "code",
   "execution_count": 178,
   "metadata": {},
   "outputs": [
    {
     "name": "stdout",
     "output_type": "stream",
     "text": [
      "fileCount: 600\n",
      "KEYS:  40\n",
      "key:  0  val:  (0.0025833333333333333, 864270.5161290322)\n",
      "key:  1  val:  (0.006, 913306.9214720733)\n",
      "key:  2  val:  (0.011875, 1600792.691107716)\n",
      "key:  3  val:  (0.007625, 1225708.1243892675)\n",
      "key:  4  val:  (0.008541666666666666, 992089.0554434316)\n",
      "key:  5  val:  (0.008, 1798090.318077583)\n",
      "key:  6  val:  (0.010333333333333333, 1497866.1165764795)\n",
      "key:  7  val:  (0.009166666666666667, 1375007.1041350667)\n",
      "key:  8  val:  (0.007875, 1454412.784142634)\n",
      "key:  9  val:  (0.010583333333333333, 1262227.2596173426)\n",
      "key:  10  val:  (0.008916666666666666, 1682278.7398412696)\n",
      "key:  11  val:  (0.008375, 1396512.4280323763)\n",
      "key:  12  val:  (0.009708333333333333, 1310018.1442668273)\n",
      "key:  13  val:  (0.008, 1046110.4250642965)\n",
      "key:  14  val:  (0.00425, 1246178.3048416923)\n",
      "key:  15  val:  (0.0067083333333333335, 1334325.199948873)\n",
      "key:  16  val:  (0.0055, 1312105.8571078833)\n",
      "key:  17  val:  (0.007958333333333333, 1300072.8888769154)\n",
      "key:  18  val:  (0.0057083333333333335, 1375078.9711267622)\n",
      "key:  19  val:  (0.0035833333333333333, 1457231.208753056)\n",
      "key:  20  val:  (0.004583333333333333, 1266547.3352436358)\n",
      "key:  21  val:  (0.005166666666666667, 1249581.6482053683)\n",
      "key:  22  val:  (0.0035833333333333333, 833639.132148373)\n",
      "key:  23  val:  (0.002958333333333333, 1084996.9181851593)\n",
      "key:  24  val:  (0.0045, 873716.0995325028)\n",
      "key:  25  val:  (0.002625, 781020.4444279325)\n",
      "key:  26  val:  (0.0025, 912842.4768998041)\n",
      "key:  27  val:  (0.003125, 953660.051710742)\n",
      "key:  28  val:  (0.0015416666666666667, 848145.7881641942)\n",
      "key:  29  val:  (0.002625, 999653.0141257856)\n",
      "key:  30  val:  (0.0025416666666666665, 1016309.1915063792)\n",
      "key:  31  val:  (0.0017083333333333334, 850783.1842512896)\n",
      "key:  32  val:  (0.002916666666666667, 807173.7917991903)\n",
      "key:  33  val:  (0.0037083333333333334, 1066571.8633881372)\n",
      "key:  34  val:  (0.004166666666666667, 917155.0849299153)\n",
      "key:  35  val:  (0.002375, 819304.7141163091)\n",
      "key:  36  val:  (0.0032916666666666667, 1012432.8532372561)\n",
      "key:  37  val:  (0.0027916666666666667, 1054892.1378724799)\n",
      "key:  38  val:  (0.003416666666666667, 1122016.4366277822)\n",
      "key:  39  val:  (0.002416666666666667, 738073.8291238396)\n"
     ]
    }
   ],
   "source": [
    "# for trucks audio sample\n",
    "coll2 = {}\n",
    "fileCount = 0\n",
    "for i,colli in enumerate(list_collection):\n",
    "#     print coll\n",
    "#     print i, 'th colletion: '\n",
    "#     print coll.keys()\n",
    "    fileCount = fileCount + 1\n",
    "    for k in colli.keys():\n",
    "        if k >= 0 and colli[k] > 1.0:#if k >= 7 and colli[k] > 1.0:\n",
    "            if k in coll2:\n",
    "                coll2[k] = (coll2[k][0]+1,coll2[k][1]+colli[k])\n",
    "            else:\n",
    "                coll2[k] = (1, coll[k])\n",
    "print ('fileCount:',fileCount)\n",
    "for k in coll2.keys():\n",
    "    coll2[k] = (coll2[k][0]/(fileCount*len(coll2.keys())) , coll2[k][1]/(coll2[k][0]))\n",
    "    \n",
    "print ('KEYS: ', len(coll2.keys()))\n",
    "for key in sorted(coll2):\n",
    "    print ('key: ', key , ' val: ', coll2[key])\n",
    "# for key in sorted(coll2):\n",
    "#      print (coll2[key][0],',')"
   ]
  },
  {
   "cell_type": "code",
   "execution_count": 179,
   "metadata": {},
   "outputs": [],
   "source": [
    "# for no trucks audio sample\n",
    "import glob\n",
    "\n",
    "list_collection_2 = []\n",
    "# dir_path_2 = '/Users/nawazkh/Masters/Courses/CSCI-B649_Internet_Of_Things/FinalProject/truck-audioset/no_trucks/'\n",
    "dir_path_2 = '/Users/nawazkh/Masters/Courses/CSCI-B649_Internet_Of_Things/FinalProject/truck-audioset/noisy-data-set/non_truck/'\n",
    "for wavf in glob.glob(dir_path_2+'*.wav'):\n",
    "#     print 'filename ', wavf\n",
    "    coll_no_trucks = find_prominent_freqeuencies(wavf)\n",
    "    list_collection_2.append(coll_no_trucks)"
   ]
  },
  {
   "cell_type": "code",
   "execution_count": 180,
   "metadata": {},
   "outputs": [
    {
     "name": "stdout",
     "output_type": "stream",
     "text": [
      "KEYS:  40\n",
      "key:  0  val:  (0.0030833333333333333, 892773.3783783783)\n",
      "key:  1  val:  (0.0025833333333333333, 889931.6905399328)\n",
      "key:  2  val:  (0.006, 2038272.071237165)\n",
      "key:  3  val:  (0.005375, 1660007.028504093)\n",
      "key:  4  val:  (0.005916666666666666, 1078573.7750655017)\n",
      "key:  5  val:  (0.0077083333333333335, 986988.2378624603)\n",
      "key:  6  val:  (0.007416666666666667, 1620076.990018335)\n",
      "key:  7  val:  (0.0075, 977726.1912494694)\n",
      "key:  8  val:  (0.009291666666666667, 1356890.1743661903)\n",
      "key:  9  val:  (0.005666666666666667, 1353196.9070727094)\n",
      "key:  10  val:  (0.0067083333333333335, 782694.8243596465)\n",
      "key:  11  val:  (0.0036666666666666666, 814493.621251195)\n",
      "key:  12  val:  (0.004541666666666667, 1375497.5697653235)\n",
      "key:  13  val:  (0.00575, 1006664.1863923924)\n",
      "key:  14  val:  (0.0067083333333333335, 2677194.9613592546)\n",
      "key:  15  val:  (0.007416666666666667, 1170593.2544267818)\n",
      "key:  16  val:  (0.0070416666666666666, 1515855.9576734984)\n",
      "key:  17  val:  (0.006, 1013417.9150762779)\n",
      "key:  18  val:  (0.005291666666666667, 1051592.9152279738)\n",
      "key:  19  val:  (0.005875, 1052307.6166813134)\n",
      "key:  20  val:  (0.003916666666666666, 789319.8180353224)\n",
      "key:  21  val:  (0.0070416666666666666, 1323113.0708956672)\n",
      "key:  22  val:  (0.004541666666666667, 867192.9629948757)\n",
      "key:  23  val:  (0.005458333333333333, 1101036.0456131063)\n",
      "key:  24  val:  (0.00625, 1257374.1591069496)\n",
      "key:  25  val:  (0.003875, 989723.0813289046)\n",
      "key:  26  val:  (0.004166666666666667, 787351.9696476109)\n",
      "key:  27  val:  (0.003916666666666666, 850773.6634641343)\n",
      "key:  28  val:  (0.005166666666666667, 1169139.6466735376)\n",
      "key:  29  val:  (0.003833333333333333, 1509311.4357386208)\n",
      "key:  30  val:  (0.0033333333333333335, 1194878.1006723728)\n",
      "key:  31  val:  (0.003833333333333333, 766174.3795734324)\n",
      "key:  32  val:  (0.005458333333333333, 858115.4078445862)\n",
      "key:  33  val:  (0.004, 1085977.941908622)\n",
      "key:  34  val:  (0.002916666666666667, 1026956.1029684749)\n",
      "key:  35  val:  (0.00275, 1357784.4237084724)\n",
      "key:  36  val:  (0.0035, 1452619.7294573295)\n",
      "key:  37  val:  (0.0027916666666666667, 880322.9140636321)\n",
      "key:  38  val:  (0.002375, 920887.087538605)\n",
      "key:  39  val:  (0.0025416666666666665, 1024631.8074089788)\n"
     ]
    }
   ],
   "source": [
    "# for no trucks audio sample\n",
    "coll2_no_trucks = {}\n",
    "no_fileCount = 0\n",
    "for i,collo in enumerate(list_collection_2):\n",
    "#     print coll\n",
    "#     print i, 'th colletion: '\n",
    "#     print coll.keys()\n",
    "    no_fileCount = no_fileCount + 1\n",
    "    for k in collo.keys():\n",
    "        if k >= 0 and collo[k] > 1.0:#if k >= 7 and collo[k] > 1.0:\n",
    "            if k in coll2_no_trucks:\n",
    "                coll2_no_trucks[k] = (coll2_no_trucks[k][0]+1,coll2_no_trucks[k][1]+collo[k])\n",
    "            else:\n",
    "                coll2_no_trucks[k] = (1, collo[k])\n",
    "                \n",
    "for k in coll2_no_trucks.keys():\n",
    "    coll2_no_trucks[k] = (coll2_no_trucks[k][0]/(no_fileCount*len(coll2_no_trucks.keys())) , coll2_no_trucks[k][1]/(coll2_no_trucks[k][0]))        \n",
    "    \n",
    "print ('KEYS: ', len(coll2_no_trucks.keys()))\n",
    "for key in sorted(coll2_no_trucks):\n",
    "    print ('key: ', key , ' val: ', coll2_no_trucks[key])\n",
    "# for key in sorted(coll2_no_trucks):\n",
    "#      print (coll2_no_trucks[key][0],',')"
   ]
  },
  {
   "cell_type": "code",
   "execution_count": 181,
   "metadata": {},
   "outputs": [],
   "source": [
    "def print_Probability(myFile):\n",
    "    truck_d = find_prominent_freqeuencies(myFile)\n",
    "#     print (truck_d)\n",
    "    td = {}\n",
    "    for k in truck_d.keys():\n",
    "            if  k >= 0 and truck_d[k] > 1.0:#if  k >= 7 and truck_d[k] > 1.0:\n",
    "                if k in td:\n",
    "                    td[k] = (td[k][0]+1,td[k][1]+truck_d[k])\n",
    "                else:\n",
    "                    td[k] = (1, truck_d[k])\n",
    "\n",
    "    for k in td.keys():\n",
    "        td[k] = (td[k][0]/len(coll2.keys()), td[k][1])\n",
    "        \n",
    "#     for key in sorted(td.keys()):\n",
    "#         print ('key: ', key , ' val: ', td[key])\n",
    "    Output_prob = 1.0\n",
    "    Output_prob_truck = 1.0\n",
    "    Output_prob_no_truck = 1.0\n",
    "\n",
    "    for k in coll2.keys():#td.keys():\n",
    "        if(k in td.keys()):\n",
    "            #if(k >= 0 and td[k][1] > 1.0):#if(k >= 7 and td[k][1] > 1.0):\n",
    "                #if(td[k][1] > (0.7*coll2[k][1])):\n",
    "            Output_prob = coll2[k][0]*Output_prob#*(td[k][1]/coll2[k][1])\n",
    "#                 else:\n",
    "#                     Output_prob = 0.00001*Output_prob#*(td[k][1]/coll2[k][1])#*td[k][0]\n",
    "        else:\n",
    "            Output_prob = 0.00001*Output_prob#*(1/coll2_no_trucks[k][1])\n",
    "    Output_prob_truck = 0.5*Output_prob\n",
    "    \n",
    "    Output_prob = 1.0\n",
    "    for k in coll2_no_trucks.keys():#td.keys():\n",
    "        if(k in td.keys()):\n",
    "            #if(k >= 0 and td[k][1] > 1.0):#if(k >= 7 and td[k][1] > 1.0):\n",
    "                #if(td[k][1] > (0.7*coll2_no_trucks[k][1])):\n",
    "            Output_prob = coll2_no_trucks[k][0]*Output_prob#*(td[k][1]/coll2_no_trucks[k][1])\n",
    "#                 else:\n",
    "#                     Output_prob = 0.00001*Output_prob#*(td[k][1]/coll2_no_trucks[k][1])#*td[k][0]\n",
    "        else:\n",
    "            Output_prob = 0.00001*Output_prob#*(1/coll2_no_trucks[k][1])\n",
    "    Output_prob_no_truck = 0.5*Output_prob\n",
    "    \n",
    "#     print ('Truck Prob: ',Output_prob_truck)\n",
    "#     print ('Not Truck Prob: ',Output_prob_no_truck)\n",
    "    if Output_prob_truck >= Output_prob_no_truck:\n",
    "#         print ('***Truck***')#,Output_prob_truck)\n",
    "        return 1\n",
    "    else:\n",
    "#         print ('Not a Truck')# ',Output_prob_no_truck)\n",
    "        return 0\n",
    "        "
   ]
  },
  {
   "cell_type": "code",
   "execution_count": 182,
   "metadata": {},
   "outputs": [
    {
     "data": {
      "text/plain": [
       "1"
      ]
     },
     "execution_count": 182,
     "metadata": {},
     "output_type": "execute_result"
    },
    {
     "name": "stdout",
     "output_type": "stream",
     "text": [
      "----------------------------------\n"
     ]
    },
    {
     "data": {
      "text/plain": [
       "0"
      ]
     },
     "execution_count": 182,
     "metadata": {},
     "output_type": "execute_result"
    }
   ],
   "source": [
    "new_truck_audio = '/Users/nawazkh/Masters/Courses/CSCI-B649_Internet_Of_Things/FinalProject/truck-audioset/noisy-data-set/truck/Truck-15-05-.wav'\n",
    "new_nontruck_audio = '/Users/nawazkh/Masters/Courses/CSCI-B649_Internet_Of_Things/FinalProject/truck-audioset/noisy-data-set/non_truck/Non-Truck-6-02-.wav'\n",
    "\n",
    "# for myFile in glob.glob(new_truck_audio+\"*.wav\"):\n",
    "print_Probability(new_truck_audio)\n",
    "print ('----------------------------------')\n",
    "print_Probability(new_nontruck_audio)"
   ]
  },
  {
   "cell_type": "code",
   "execution_count": 183,
   "metadata": {},
   "outputs": [
    {
     "name": "stdout",
     "output_type": "stream",
     "text": [
      "Percentage:  0.8016666666666666\n"
     ]
    }
   ],
   "source": [
    "truck_truck_counter = 0.0\n",
    "dir_path_3 = '/Users/nawazkh/Masters/Courses/CSCI-B649_Internet_Of_Things/FinalProject/truck-audioset/noisy-data-set/truck/'\n",
    "for wavf in glob.glob(dir_path_3+'*.wav'):\n",
    "#     print 'filename ', wavf\n",
    "    if( print_Probability(wavf) == 1):\n",
    "        truck_truck_counter = truck_truck_counter + 1\n",
    "print ('Percentage: ',truck_truck_counter/fileCount)\n",
    "#     print ('----------------------------------')"
   ]
  },
  {
   "cell_type": "code",
   "execution_count": 184,
   "metadata": {},
   "outputs": [
    {
     "name": "stdout",
     "output_type": "stream",
     "text": [
      "Percentage:  0.5233333333333333\n"
     ]
    }
   ],
   "source": [
    "truck_truck_counter = 0.0\n",
    "dir_path_3 = '/Users/nawazkh/Masters/Courses/CSCI-B649_Internet_Of_Things/FinalProject/truck-audioset/noisy-data-set/non_truck/'\n",
    "for wavf in glob.glob(dir_path_3+'*.wav'):\n",
    "#     print 'filename ', wavf\n",
    "    if( print_Probability(wavf) == 0):\n",
    "        truck_truck_counter = truck_truck_counter + 1\n",
    "print ('Percentage: ',truck_truck_counter/fileCount)\n",
    "#     print ('----------------------------------')"
   ]
  },
  {
   "cell_type": "code",
   "execution_count": null,
   "metadata": {},
   "outputs": [],
   "source": []
  },
  {
   "cell_type": "code",
   "execution_count": null,
   "metadata": {},
   "outputs": [],
   "source": []
  }
 ],
 "metadata": {
  "kernelspec": {
   "display_name": "Python 2",
   "language": "python",
   "name": "python2"
  },
  "language_info": {
   "codemirror_mode": {
    "name": "ipython",
    "version": 3
   },
   "file_extension": ".py",
   "mimetype": "text/x-python",
   "name": "python",
   "nbconvert_exporter": "python",
   "pygments_lexer": "ipython3",
   "version": "3.6.5"
  }
 },
 "nbformat": 4,
 "nbformat_minor": 2
}
