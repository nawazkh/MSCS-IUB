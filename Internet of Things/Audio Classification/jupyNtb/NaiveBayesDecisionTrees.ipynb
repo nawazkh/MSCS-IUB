{
 "cells": [
  {
   "cell_type": "code",
   "execution_count": 35,
   "metadata": {},
   "outputs": [],
   "source": [
    "import numpy as np\n",
    "import scipy\n",
    "import scipy.signal as signal\n",
    "import thinkdsp\n",
    "import thinkplot\n",
    "import urllib.request\n",
    "import sys\n",
    "import logging\n",
    "import math\n",
    "import os\n",
    "import pydub  \n",
    "import scipy\n",
    "# import urllib.request\n",
    "%matplotlib inline\n",
    "import matplotlib.pyplot as plt\n",
    "from scipy.io import wavfile # get the api\n",
    "from scipy.fftpack import fft\n",
    "from pylab import *\n",
    "\n",
    "from IPython.core.interactiveshell import InteractiveShell\n",
    "InteractiveShell.ast_node_interactivity = \"all\"\n",
    "from IPython.display import Audio"
   ]
  },
  {
   "cell_type": "code",
   "execution_count": 36,
   "metadata": {},
   "outputs": [],
   "source": [
    "def find_prominent_freqeuencies(filename):\n",
    "    fs, data = wavfile.read(filename) # load the data\n",
    "    if len(data.shape) > 1:# this is a two channel soundtrack, I get the first track\n",
    "        a1 = data.T[0] \n",
    "        a = a1[:1024]\n",
    "    else:\n",
    "        a1 = data\n",
    "        a = a1[:1024]\n",
    "    \n",
    "    c = fft(a) # create a list of complex number\n",
    "    d = len(c)/2  # you only need half of the fft list\n",
    "    c_abf_fil = np.absolute(c[:int(d-1)])\n",
    "    c_abs = c_abf_fil[:26]#c[26] represents 812.5 Hz\n",
    "    mcr = np.sum(c_abs)\n",
    "    mcr = mcr/len(c_abs)\n",
    "\n",
    "    collection={}\n",
    "    for i in range(len(c_abs)):\n",
    "        collection[i] = c_abs[i];\n",
    "#         if c_abs[i] >= (1.35*mcr):\n",
    "#             collection[i] = c_abs[i]\n",
    "#         else:\n",
    "#             collection[i] = 0\n",
    "    return collection"
   ]
  },
  {
   "cell_type": "code",
   "execution_count": 37,
   "metadata": {},
   "outputs": [],
   "source": [
    "# for trucks audio sample\n",
    "import glob\n",
    "\n",
    "list_collection = []\n",
    "# dir_path = '/Users/nawazkh/Masters/Courses/CSCI-B649_Internet_Of_Things/FinalProject/truck-audioset/trucks/'\n",
    "dir_path = '/Users/nawazkh/Masters/Courses/CSCI-B649_Internet_Of_Things/FinalProject/truck-audioset/noisy-data-set/truck/'\n",
    "for wavf in glob.glob(dir_path+'*.wav'):\n",
    "#     print 'filename ', wavf\n",
    "    coll = find_prominent_freqeuencies(wavf)\n",
    "    list_collection.append(coll)\n",
    "    \n",
    "# myfileC = 0\n",
    "# for i,colli in enumerate(list_collection):\n",
    "#     myfileC = myfileC + 1\n",
    "    "
   ]
  },
  {
   "cell_type": "code",
   "execution_count": 39,
   "metadata": {},
   "outputs": [
    {
     "name": "stdout",
     "output_type": "stream",
     "text": [
      "fileCount: 600\n",
      "KEYS:  26\n",
      "key:  0  val:  (0.038461538461538464, 216096.61)\n",
      "key:  1  val:  (0.038461538461538464, 607361.8923314315)\n",
      "key:  2  val:  (0.038461538461538464, 444147.1926329615)\n",
      "key:  3  val:  (0.038461538461538464, 613421.9075998308)\n",
      "key:  4  val:  (0.038461538461538464, 486376.5791450767)\n",
      "key:  5  val:  (0.038461538461538464, 583579.7388095486)\n",
      "key:  6  val:  (0.038461538461538464, 484873.11004621384)\n",
      "key:  7  val:  (0.038461538461538464, 392898.11463603703)\n",
      "key:  8  val:  (0.038461538461538464, 475855.1089571765)\n",
      "key:  9  val:  (0.038461538461538464, 474621.7061838409)\n",
      "key:  10  val:  (0.038461538461538464, 398463.7427104495)\n",
      "key:  11  val:  (0.038461538461538464, 326972.36117061356)\n",
      "key:  12  val:  (0.038461538461538464, 335559.91789596394)\n",
      "key:  13  val:  (0.038461538461538464, 301891.56875035417)\n",
      "key:  14  val:  (0.038461538461538464, 289052.95920065185)\n",
      "key:  15  val:  (0.038461538461538464, 301320.0652681385)\n",
      "key:  16  val:  (0.038461538461538464, 307049.96485166275)\n",
      "key:  17  val:  (0.038461538461538464, 328787.0119711027)\n",
      "key:  18  val:  (0.038461538461538464, 293292.040327565)\n",
      "key:  19  val:  (0.038461538461538464, 316781.0801902077)\n",
      "key:  20  val:  (0.038461538461538464, 313768.06071635254)\n",
      "key:  21  val:  (0.038461538461538464, 264191.5048180297)\n",
      "key:  22  val:  (0.038461538461538464, 278295.19119404786)\n",
      "key:  23  val:  (0.038461538461538464, 308771.9692121818)\n",
      "key:  24  val:  (0.038461538461538464, 270857.3390216213)\n",
      "key:  25  val:  (0.038461538461538464, 269352.57169685996)\n"
     ]
    }
   ],
   "source": [
    "# for trucks audio sample\n",
    "coll2 = {}\n",
    "fileCount = 0\n",
    "\n",
    "for i,colli in enumerate(list_collection):\n",
    "#     print coll\n",
    "#     print i, 'th colletion: '\n",
    "#     print coll.keys()\n",
    "    fileCount = fileCount + 1\n",
    "    for k in colli.keys():\n",
    "        if k >= 0 and colli[k] > 0.5:#if k >= 7 and colli[k] > 1.0:\n",
    "            if k in coll2:\n",
    "                coll2[k] = (coll2[k][0]+1,coll2[k][1]+colli[k])\n",
    "            else:\n",
    "                coll2[k] = (1, coll[k])\n",
    "# for key in sorted(coll2):\n",
    "#      print (coll2[key],',')\n",
    "print ('fileCount:',fileCount)\n",
    "for k in coll2.keys():\n",
    "    coll2[k] = (coll2[k][0]/(fileCount*len(coll2.keys())) , coll2[k][1]/(coll2[k][0]))\n",
    "    \n",
    "print ('KEYS: ', len(coll2.keys()))\n",
    "for key in sorted(coll2):\n",
    "    print ('key: ', key , ' val: ', coll2[key])\n",
    "# for key in sorted(coll2):\n",
    "#      print (coll2[key][0],',')"
   ]
  },
  {
   "cell_type": "code",
   "execution_count": 40,
   "metadata": {},
   "outputs": [],
   "source": [
    "# for no trucks audio sample\n",
    "import glob\n",
    "\n",
    "list_collection_2 = []\n",
    "# dir_path_2 = '/Users/nawazkh/Masters/Courses/CSCI-B649_Internet_Of_Things/FinalProject/truck-audioset/no_trucks/'\n",
    "dir_path_2 = '/Users/nawazkh/Masters/Courses/CSCI-B649_Internet_Of_Things/FinalProject/truck-audioset/noisy-data-set/non_truck/'\n",
    "for wavf in glob.glob(dir_path_2+'*.wav'):\n",
    "#     print 'filename ', wavf\n",
    "    coll_no_trucks = find_prominent_freqeuencies(wavf)\n",
    "    list_collection_2.append(coll_no_trucks)"
   ]
  },
  {
   "cell_type": "code",
   "execution_count": 41,
   "metadata": {},
   "outputs": [
    {
     "name": "stdout",
     "output_type": "stream",
     "text": [
      "KEYS:  26\n",
      "key:  0  val:  (0.038461538461538464, 178507.76333333334)\n",
      "key:  1  val:  (0.038461538461538464, 403423.65427926055)\n",
      "key:  2  val:  (0.038461538461538464, 387205.78712739854)\n",
      "key:  3  val:  (0.038461538461538464, 436845.7869432715)\n",
      "key:  4  val:  (0.038461538461538464, 437405.85989592655)\n",
      "key:  5  val:  (0.038461538461538464, 330377.8055755395)\n",
      "key:  6  val:  (0.038461538461538464, 324566.5423519227)\n",
      "key:  7  val:  (0.038461538461538464, 605868.8229463266)\n",
      "key:  8  val:  (0.038461538461538464, 460192.59015342034)\n",
      "key:  9  val:  (0.038461538461538464, 361558.15766301093)\n",
      "key:  10  val:  (0.038461538461538464, 344356.8889706753)\n",
      "key:  11  val:  (0.038461538461538464, 354755.23970460566)\n",
      "key:  12  val:  (0.038461538461538464, 405440.3628844197)\n",
      "key:  13  val:  (0.038461538461538464, 277706.24645577493)\n",
      "key:  14  val:  (0.038461538461538464, 317066.5659256912)\n",
      "key:  15  val:  (0.038461538461538464, 302821.6933370778)\n",
      "key:  16  val:  (0.038461538461538464, 315555.32507842156)\n",
      "key:  17  val:  (0.038461538461538464, 244866.2091473039)\n",
      "key:  18  val:  (0.038461538461538464, 295943.30987247836)\n",
      "key:  19  val:  (0.038461538461538464, 262997.5579912418)\n",
      "key:  20  val:  (0.038461538461538464, 264148.9267772681)\n",
      "key:  21  val:  (0.038461538461538464, 292582.4576800293)\n",
      "key:  22  val:  (0.038461538461538464, 277895.09679609974)\n",
      "key:  23  val:  (0.038461538461538464, 219200.19090829242)\n",
      "key:  24  val:  (0.038461538461538464, 213978.66402958817)\n",
      "key:  25  val:  (0.038461538461538464, 196867.35077432488)\n"
     ]
    }
   ],
   "source": [
    "# for no trucks audio sample\n",
    "coll2_no_trucks = {}\n",
    "no_fileCount = 0\n",
    "for i,collo in enumerate(list_collection_2):\n",
    "#     print coll\n",
    "#     print i, 'th colletion: '\n",
    "#     print coll.keys()\n",
    "    no_fileCount = no_fileCount + 1\n",
    "    for k in collo.keys():\n",
    "        if k >= 0 and collo[k] > 1.0:#if k >= 7 and collo[k] > 1.0:\n",
    "            if k in coll2_no_trucks:\n",
    "                coll2_no_trucks[k] = (coll2_no_trucks[k][0]+1,coll2_no_trucks[k][1]+collo[k])\n",
    "            else:\n",
    "                coll2_no_trucks[k] = (1, collo[k])\n",
    "                \n",
    "for k in coll2_no_trucks.keys():\n",
    "    coll2_no_trucks[k] = (coll2_no_trucks[k][0]/(no_fileCount*len(coll2_no_trucks.keys())) , coll2_no_trucks[k][1]/(coll2_no_trucks[k][0]))        \n",
    "    \n",
    "print ('KEYS: ', len(coll2_no_trucks.keys()))\n",
    "for key in sorted(coll2_no_trucks):\n",
    "    print ('key: ', key , ' val: ', coll2_no_trucks[key])\n",
    "# for key in sorted(coll2_no_trucks):\n",
    "#      print (coll2_no_trucks[key][0],',')"
   ]
  },
  {
   "cell_type": "code",
   "execution_count": 74,
   "metadata": {},
   "outputs": [],
   "source": [
    "def print_Probability(myFile):\n",
    "    truck_d = find_prominent_freqeuencies(myFile)\n",
    "    td = {}\n",
    "    for k in truck_d.keys():\n",
    "            if  k >= 0 and truck_d[k] > 1.0:#if  k >= 7 and truck_d[k] > 1.0:\n",
    "                if k in td:\n",
    "                    td[k] = (td[k][0]+1,td[k][1]+truck_d[k])\n",
    "                else:\n",
    "                    td[k] = (1, truck_d[k])\n",
    "    \n",
    "    \n",
    "#     for key in sorted(td.keys()):\n",
    "#         print ('key: ', key , ' val: ', td[key])\n",
    "        \n",
    "#     print (len(coll2.keys()))\n",
    "           \n",
    "    for k in td.keys():\n",
    "        td[k] = (td[k][0]/len(coll2.keys()), td[k][1])\n",
    "#     for key in sorted(td.keys()):\n",
    "#         print ('key: ', key , ' val: ', td[key])\n",
    "    \n",
    "    Output_prob = 1.0\n",
    "    Output_prob_truck = 1.0\n",
    "    Output_prob_no_truck = 1.0\n",
    "\n",
    "    for k in coll2.keys():#td.keys():\n",
    "        if(k in td.keys()):\n",
    "            #if(k >= 0 and td[k][1] > 1.0):#if(k >= 7 and td[k][1] > 1.0):\n",
    "            if(td[k][1] > (1.1*coll2[k][1])):\n",
    "                Output_prob = coll2[k][0]*Output_prob#*(td[k][1]/coll2[k][1])\n",
    "            else:\n",
    "                  Output_prob = 0.001*Output_prob#*(td[k][1]/coll2[k][1])#*td[k][0]\n",
    "#         else:\n",
    "#             Output_prob = 0.00001*Output_prob#*(1/coll2_no_trucks[k][1])\n",
    "    Output_prob_truck = Output_prob\n",
    "    \n",
    "    Output_prob = 1.0\n",
    "    for k in coll2_no_trucks.keys():#td.keys():\n",
    "        if(k in td.keys()):\n",
    "            #if(k >= 0 and td[k][1] > 1.0):#if(k >= 7 and td[k][1] > 1.0):\n",
    "            if(td[k][1] > (1.1*coll2_no_trucks[k][1])):\n",
    "                Output_prob = coll2_no_trucks[k][0]*Output_prob#*(td[k][1]/coll2_no_trucks[k][1])\n",
    "            else:\n",
    "                Output_prob = 0.001*Output_prob#*(td[k][1]/coll2_no_trucks[k][1])#*td[k][0]\n",
    "#         else:\n",
    "#             Output_prob = 0.00001*Output_prob#*(1/coll2_no_trucks[k][1])\n",
    "    Output_prob_no_truck = Output_prob\n",
    "    \n",
    "    print ('Truck Prob: ',Output_prob_truck)\n",
    "    print ('Not Truck Prob: ',Output_prob_no_truck)\n",
    "    if Output_prob_truck >= Output_prob_no_truck:\n",
    "#         print ('***Truck***')#,Output_prob_truck)\n",
    "        return 1\n",
    "    else:\n",
    "#         print ('Not a Truck')# ',Output_prob_no_truck)\n",
    "        return 0\n",
    "        "
   ]
  },
  {
   "cell_type": "code",
   "execution_count": 75,
   "metadata": {},
   "outputs": [
    {
     "name": "stdout",
     "output_type": "stream",
     "text": [
      "Truck Prob:  1.8417889721157716e-64\n",
      "Not Truck Prob:  1.0478999613767477e-59\n"
     ]
    },
    {
     "data": {
      "text/plain": [
       "0"
      ]
     },
     "execution_count": 75,
     "metadata": {},
     "output_type": "execute_result"
    },
    {
     "name": "stdout",
     "output_type": "stream",
     "text": [
      "----------------------------------\n",
      "Truck Prob:  4.788651327501006e-66\n",
      "Not Truck Prob:  2.7245398995795445e-61\n"
     ]
    },
    {
     "data": {
      "text/plain": [
       "0"
      ]
     },
     "execution_count": 75,
     "metadata": {},
     "output_type": "execute_result"
    }
   ],
   "source": [
    "new_truck_audio = '/Users/nawazkh/Masters/Courses/CSCI-B649_Internet_Of_Things/FinalProject/truck-audioset/noisy-data-set/truck/Truck-15-05-.wav'\n",
    "new_nontruck_audio = '/Users/nawazkh/Masters/Courses/CSCI-B649_Internet_Of_Things/FinalProject/truck-audioset/noisy-data-set/non_truck/Non-Truck-6-02-.wav'\n",
    "\n",
    "# for myFile in glob.glob(new_truck_audio+\"*.wav\"):\n",
    "print_Probability(new_truck_audio)\n",
    "print ('----------------------------------')\n",
    "print_Probability(new_nontruck_audio)"
   ]
  },
  {
   "cell_type": "code",
   "execution_count": 71,
   "metadata": {},
   "outputs": [
    {
     "name": "stdout",
     "output_type": "stream",
     "text": [
      "Percentage:  0.285\n"
     ]
    }
   ],
   "source": [
    "truck_truck_counter = 0.0\n",
    "dir_path_3 = '/Users/nawazkh/Masters/Courses/CSCI-B649_Internet_Of_Things/FinalProject/truck-audioset/noisy-data-set/truck/'\n",
    "for wavf in glob.glob(dir_path_3+'*.wav'):\n",
    "#     print 'filename ', wavf\n",
    "    if( print_Probability(wavf) == 1):\n",
    "        truck_truck_counter = truck_truck_counter + 1\n",
    "print ('Percentage: ',truck_truck_counter/fileCount)\n",
    "#     print ('----------------------------------')"
   ]
  },
  {
   "cell_type": "code",
   "execution_count": 70,
   "metadata": {},
   "outputs": [
    {
     "name": "stdout",
     "output_type": "stream",
     "text": [
      "Percentage:  0.6566666666666666\n"
     ]
    }
   ],
   "source": [
    "truck_truck_counter = 0.0\n",
    "dir_path_3 = '/Users/nawazkh/Masters/Courses/CSCI-B649_Internet_Of_Things/FinalProject/truck-audioset/noisy-data-set/non_truck/'\n",
    "for wavf in glob.glob(dir_path_3+'*.wav'):\n",
    "#     print 'filename ', wavf\n",
    "    if( print_Probability(wavf) == 0):\n",
    "        truck_truck_counter = truck_truck_counter + 1\n",
    "print ('Percentage: ',truck_truck_counter/fileCount)\n",
    "#     print ('----------------------------------')\n"
   ]
  }
 ],
 "metadata": {
  "kernelspec": {
   "display_name": "Python 2",
   "language": "python",
   "name": "python2"
  },
  "language_info": {
   "codemirror_mode": {
    "name": "ipython",
    "version": 3
   },
   "file_extension": ".py",
   "mimetype": "text/x-python",
   "name": "python",
   "nbconvert_exporter": "python",
   "pygments_lexer": "ipython3",
   "version": "3.6.5"
  }
 },
 "nbformat": 4,
 "nbformat_minor": 2
}
